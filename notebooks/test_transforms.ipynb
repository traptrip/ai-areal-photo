{
 "cells": [
  {
   "cell_type": "code",
   "execution_count": 12,
   "metadata": {},
   "outputs": [],
   "source": [
    "import numpy as np\n",
    "import albumentations as A\n",
    "\n",
    "transform = A.Compose([\n",
    "    A.HorizontalFlip(p=1)\n",
    "], keypoint_params=A.KeypointParams(format='xy'))"
   ]
  },
  {
   "cell_type": "code",
   "execution_count": 13,
   "metadata": {},
   "outputs": [],
   "source": [
    "image = np.zeros((224, 224, 3))\n",
    "keypoints = np.array([[0.5, 0.5], [0, 0.1]])"
   ]
  },
  {
   "cell_type": "code",
   "execution_count": 14,
   "metadata": {},
   "outputs": [],
   "source": [
    "transformed = transform(image=image, keypoints=keypoints)"
   ]
  },
  {
   "cell_type": "code",
   "execution_count": 15,
   "metadata": {},
   "outputs": [
    {
     "data": {
      "text/plain": [
       "[(222.5, 0.5), (223.0, 0.1)]"
      ]
     },
     "execution_count": 15,
     "metadata": {},
     "output_type": "execute_result"
    }
   ],
   "source": [
    "transformed[\"keypoints\"]"
   ]
  },
  {
   "cell_type": "code",
   "execution_count": 1,
   "metadata": {},
   "outputs": [
    {
     "name": "stdout",
     "output_type": "stream",
     "text": [
      "Driver: GTiff/GeoTIFF\n",
      "Files: /home/and/projects/hacks/ai-areal-photo/data/original.tiff\n",
      "Size is 10496, 10496\n",
      "Image Structure Metadata:\n",
      "  COMPRESSION=LZW\n",
      "  INTERLEAVE=PIXEL\n",
      "  PREDICTOR=2\n",
      "Corner Coordinates:\n",
      "Upper Left  (    0.0,    0.0)\n",
      "Lower Left  (    0.0,10496.0)\n",
      "Upper Right (10496.0,    0.0)\n",
      "Lower Right (10496.0,10496.0)\n",
      "Center      ( 5248.0, 5248.0)\n",
      "Band 1 Block=10496x1 Type=Byte, ColorInterp=Red\n",
      "Band 2 Block=10496x1 Type=Byte, ColorInterp=Green\n",
      "Band 3 Block=10496x1 Type=Byte, ColorInterp=Blue\n",
      "\n"
     ]
    }
   ],
   "source": [
    "from osgeo import gdal\n",
    "info = gdal.Info('/home/and/projects/hacks/ai-areal-photo/data/original.tiff', deserialize=True)\n",
    "print(info) \n"
   ]
  },
  {
   "cell_type": "code",
   "execution_count": null,
   "metadata": {},
   "outputs": [],
   "source": []
  }
 ],
 "metadata": {
  "kernelspec": {
   "display_name": "Python 3.9.13 ('mipt-hack')",
   "language": "python",
   "name": "python3"
  },
  "language_info": {
   "codemirror_mode": {
    "name": "ipython",
    "version": 3
   },
   "file_extension": ".py",
   "mimetype": "text/x-python",
   "name": "python",
   "nbconvert_exporter": "python",
   "pygments_lexer": "ipython3",
   "version": "3.9.13"
  },
  "orig_nbformat": 4,
  "vscode": {
   "interpreter": {
    "hash": "05679b4da9186d3c69db4f34e821fc11a884fdad43f66d06c4c1c446b78d364a"
   }
  }
 },
 "nbformat": 4,
 "nbformat_minor": 2
}
